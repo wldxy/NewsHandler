{
 "cells": [
  {
   "cell_type": "code",
   "execution_count": 2,
   "metadata": {
    "collapsed": true
   },
   "outputs": [],
   "source": [
    "import pandas as pd\n",
    "import MySQLdb as mdb"
   ]
  },
  {
   "cell_type": "code",
   "execution_count": 3,
   "metadata": {
    "collapsed": false
   },
   "outputs": [],
   "source": [
    "info = {\n",
    "    \"host\": \"localhost\",\n",
    "    \"user\": \"root\",\n",
    "    \"passwd\": \"163613\",\n",
    "    \"db\": \"news\",\n",
    "    \"charset\": \"utf8\"\n",
    "}\n",
    "conn = mdb.connect(**info)"
   ]
  },
  {
   "cell_type": "code",
   "execution_count": 4,
   "metadata": {
    "collapsed": true
   },
   "outputs": [],
   "source": [
    "sql = \"select * from news limit 100\"\n",
    "d = pd.read_sql_query(sql, conn)"
   ]
  },
  {
   "cell_type": "code",
   "execution_count": 5,
   "metadata": {
    "collapsed": false
   },
   "outputs": [
    {
     "name": "stdout",
     "output_type": "stream",
     "text": [
      "Index([u'url', u'title', u'time', u'content'], dtype='object')\n"
     ]
    }
   ],
   "source": [
    "print d.columns"
   ]
  },
  {
   "cell_type": "code",
   "execution_count": 9,
   "metadata": {
    "collapsed": false
   },
   "outputs": [],
   "source": [
    "g = d.groupby(pd.Grouper(freq= '1D', key= 'time'))"
   ]
  },
  {
   "cell_type": "code",
   "execution_count": 18,
   "metadata": {
    "collapsed": false
   },
   "outputs": [],
   "source": [
    "k = [[i] for i in range(100)]"
   ]
  },
  {
   "cell_type": "code",
   "execution_count": 28,
   "metadata": {
    "collapsed": false
   },
   "outputs": [
    {
     "name": "stdout",
     "output_type": "stream",
     "text": [
      "http://www.chinadaily.com.cn/business/2014-11/17/content_18925442.htm\n",
      "Landmark Shanghai-HK stock link to debut on Monday\n",
      "2014-11-17 09:22:00\n",
      "SHANGHAI - A trading link that will let Hong Kong and Shanghai investors buy and sell shares on each other's bourse will go live on Monday, the latest step towards opening China's capital markets.\n",
      "Much of the cash flow from the so-called Stock Connect program is expected to be northbound initially, with foreign investors on the Hong Kong Exchange snapping up mainland shares under a daily quota of 13 billion yuan.\n",
      "The expected fund inflow has helped push the SSE180 Index and the SSE380 Index - the two main Chinese destinations for foreign investments through the program - up over 10 percent and 6.5 percent since late last month.\n",
      "Southbound investment, capped by a daily quota of 10.5 billion yuan, is likely to be less active, with few mainland investors yet to sign up to the program.\n",
      "\n",
      "\n",
      "Over the longer term, however, it could boost the average daily value of stock trading in Hong Kong by about 38 percent by 2015, French bank BNP Paribas estimates, and may ultimately lead to the creation of the world's third largest stock exchange.\n",
      "China already operates several cross-border investment programs but these are restricted to specific firms that must apply for a licence to participate.\n",
      "The Stock Connect program was originally expected to launch on Oct 27, but that unofficial deadline passed, leading to speculation that the program might be held up by technical hurdles.\n",
      "The differing tax rules applying in Hong Kong and the mainland were also a major stumbling block, but China's Finance Ministry said on Friday that it would temporarily exempt taxes on profits made from the Connect program.\n",
      "\n",
      "\n",
      "[0]\n"
     ]
    },
    {
     "name": "stderr",
     "output_type": "stream",
     "text": [
      "/home/ocean/.pyenv/versions/anaconda2-2.5.0/lib/python2.7/site-packages/ipykernel/__main__.py:1: FutureWarning: iterkv is deprecated and will be removed in a future release, use ``iteritems`` instead.\n",
      "  if __name__ == '__main__':\n"
     ]
    }
   ],
   "source": [
    "for i in d.iterkv():\n",
    "    print i[1][0]"
   ]
  },
  {
   "cell_type": "code",
   "execution_count": null,
   "metadata": {
    "collapsed": true
   },
   "outputs": [],
   "source": []
  }
 ],
 "metadata": {
  "kernelspec": {
   "display_name": "Python 2",
   "language": "python",
   "name": "python2"
  },
  "language_info": {
   "codemirror_mode": {
    "name": "ipython",
    "version": 2
   },
   "file_extension": ".py",
   "mimetype": "text/x-python",
   "name": "python",
   "nbconvert_exporter": "python",
   "pygments_lexer": "ipython2",
   "version": "2.7.12"
  }
 },
 "nbformat": 4,
 "nbformat_minor": 0
}
