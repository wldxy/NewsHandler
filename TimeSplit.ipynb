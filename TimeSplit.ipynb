{
 "cells": [
  {
   "cell_type": "code",
   "execution_count": 34,
   "metadata": {},
   "outputs": [
    {
     "name": "stderr",
     "output_type": "stream",
     "text": [
      "WARNING:gensim.models.ldamodel:too few updates, training might not converge; consider increasing the number of passes or iterations to improve accuracy\n"
     ]
    }
   ],
   "source": [
    "import LDA\n",
    "import pandas as pd\n",
    "import MySQLdb as mdb\n",
    "import collections\n",
    "import datetime\n",
    "\n",
    "def connect():\n",
    "    info = {\n",
    "    \"host\": \"localhost\",\n",
    "    \"user\": \"root\",\n",
    "    \"passwd\": \"163613\",\n",
    "    \"db\": \"news\",\n",
    "    \"charset\": \"utf8\"\n",
    "    }\n",
    "    conn = mdb.connect(**info)\n",
    "    return conn\n",
    "\n",
    "def getDocs(d):\n",
    "    docs = list()\n",
    "    def solve(df):\n",
    "        #print df[\"content\"]\n",
    "        docs.append(df[\"content\"])\n",
    "    d.apply(solve, axis=1)\n",
    "    return docs\n",
    "\n",
    "def singleDayHandler(df):\n",
    "    r = collections.defaultdict(int)\n",
    "    value = df[\"result\"]\n",
    "    for i in value:\n",
    "        for item in i:\n",
    "            r[item[0]] += item[1]\n",
    "    return pd.Series({\"lda\": r})\n",
    "\n",
    "def printDF(df):\n",
    "    print df\n",
    "\n",
    "conn = connect()\n",
    "sql = \"select * from news limit 200\"\n",
    "d = pd.read_sql_query(sql, conn)\n",
    "mask = ((d['time'] > datetime.datetime(2015, 1, 1)) & (d['time'] < datetime.datetime(2015, 12, 30)))\n",
    "d = d[mask]\n",
    "\n",
    "docs = getDocs(d)\n",
    "\n",
    "lda = LDA.LDA()\n",
    "lda.segment(docs)\n",
    "lda.ldatrain()"
   ]
  },
  {
   "cell_type": "code",
   "execution_count": 41,
   "metadata": {},
   "outputs": [
    {
     "ename": "TypeError",
     "evalue": "get_topic_terms() takes at least 2 arguments (1 given)",
     "output_type": "error",
     "traceback": [
      "\u001b[1;31m---------------------------------------------------------------------------\u001b[0m",
      "\u001b[1;31mTypeError\u001b[0m                                 Traceback (most recent call last)",
      "\u001b[1;32m<ipython-input-41-688a26860be7>\u001b[0m in \u001b[0;36m<module>\u001b[1;34m()\u001b[0m\n\u001b[1;32m----> 1\u001b[1;33m \u001b[0mlda\u001b[0m\u001b[1;33m.\u001b[0m\u001b[0mmodel\u001b[0m\u001b[1;33m.\u001b[0m\u001b[0mget_topic_terms\u001b[0m\u001b[1;33m(\u001b[0m\u001b[1;33m)\u001b[0m\u001b[1;33m\u001b[0m\u001b[0m\n\u001b[0m",
      "\u001b[1;31mTypeError\u001b[0m: get_topic_terms() takes at least 2 arguments (1 given)"
     ]
    }
   ],
   "source": [
    "lda.model."
   ]
  },
  {
   "cell_type": "code",
   "execution_count": 4,
   "metadata": {},
   "outputs": [],
   "source": [
    "sql = \"select * from news limit 100\"\n",
    "d = pd.read_sql_query(sql, conn)"
   ]
  },
  {
   "cell_type": "code",
   "execution_count": 5,
   "metadata": {},
   "outputs": [
    {
     "name": "stdout",
     "output_type": "stream",
     "text": [
      "Index([u'url', u'title', u'time', u'content'], dtype='object')\n"
     ]
    }
   ],
   "source": [
    "print d.columns"
   ]
  },
  {
   "cell_type": "code",
   "execution_count": 9,
   "metadata": {},
   "outputs": [],
   "source": [
    "g = d.groupby(pd.Grouper(freq= '1D', key= 'time'))"
   ]
  },
  {
   "cell_type": "code",
   "execution_count": 32,
   "metadata": {},
   "outputs": [],
   "source": [
    "k = d[\"title\"]"
   ]
  },
  {
   "cell_type": "code",
   "execution_count": 33,
   "metadata": {},
   "outputs": [
    {
     "name": "stdout",
     "output_type": "stream",
     "text": [
      "0     Landmark Shanghai-HK stock link to debut on Mo...\n",
      "1     Income tax exemption fuels Shanghai-HK stock c...\n",
      "2                   Shares fall as stock connect debuts\n",
      "3                 Sydney to launch RMB clearing service\n",
      "4              Global investors push Shanghai bourse up\n",
      "5     Money flows to mainland as Shanghai-HK stock l...\n",
      "6                     Stock Connect unites HK, Shanghai\n",
      "7          Yuan's footprint expanding quickly in Africa\n",
      "8          Connect program to deliver arbitrage aplenty\n",
      "9     Cross-border share trade 'to boost offshore yuan'\n",
      "10    Yuan's rising international profile to spur de...\n",
      "11         Rules set to be eased on outbound investment\n",
      "12    Prudence as historic Shanghai-HK stock link opens\n",
      "13    Shanghai-HK Stock Connect boosts HK market: C....\n",
      "14    Mixed investor reactions to Shanghai-HK stock ...\n",
      "15    China Construction Bank lists renminbi bonds i...\n",
      "16    BOC completes first clearing for Shanghai-HK s...\n",
      "17    Direct investment from Japan, US plunges as Ch...\n",
      "18        Bank of China to clear RMB business in Sydney\n",
      "19        CLSA sees 'Ghost Train' as Connect flows sink\n",
      "20    Chinese yuan-linked financial products rise in...\n",
      "21                      Renminbi hedging gains momentum\n",
      "22                  Stock issue reform still on the way\n",
      "23          Gold rebounds on Chinese interest rates cut\n",
      "24      S&P warns of inherent risks in local govt bonds\n",
      "25       CSRC: Shanghai-HK Stock Connect achieves goals\n",
      "26    Lock-up shares worth 11.5b yuan eligible for t...\n",
      "27    China stocks open higher after central bank's ...\n",
      "28                  Chinese stocks rally after rate cut\n",
      "29       Wall St ends at records on central bank action\n",
      "                            ...                        \n",
      "70               70% rise in angel investments in China\n",
      "71            Stock Connect set to clear obstacle in EU\n",
      "72    China stock market daily turnover sets new record\n",
      "73    Chinese shares jump 3% in afternoon trading se...\n",
      "74                   Chinese shares reach 43-month high\n",
      "75      China stock index futures close higher on Dec 4\n",
      "76            China expected to cut rates twice in 2015\n",
      "77     Economist warn of entailing risk after rate cuts\n",
      "78          China builders seize window for bond issues\n",
      "79                 FTZ branch to help Westpac expansion\n",
      "80    China's stock markets daily turnover hits 1t yuan\n",
      "81                   China shares close higher on Dec 5\n",
      "82    Stocks end 1.5% higher after day of volatile t...\n",
      "83            Speculative risks rising, regulator warns\n",
      "84                    China's stock market value surges\n",
      "85            Renminbi gets ready to play a bigger role\n",
      "86                 Renminbi unlikely to depreciate much\n",
      "87                  Shanghai index surpasses 3,000 mark\n",
      "88      Hard lesson learned as market continues to rise\n",
      "89    History shows previous highs are followed by d...\n",
      "90    Brokerages enjoy rising valuations, trading re...\n",
      "91                     CSI Index continues upward march\n",
      "92    S&P 500 posts worst day since Oct, energy shar...\n",
      "93       Rate cut drives convertible debt issues higher\n",
      "94                          RMB drops to four-month low\n",
      "95                      Shares fall from four-year high\n",
      "96                     Shanghai, HK plan 'Gold Connect'\n",
      "97           Weak trade data could cloud yuan prospects\n",
      "98    Change in loan policy spurs rate swaps to new ...\n",
      "99                     Equities plummet amid volatility\n",
      "Name: title, dtype: object\n"
     ]
    }
   ],
   "source": [
    "print k"
   ]
  },
  {
   "cell_type": "code",
   "execution_count": null,
   "metadata": {},
   "outputs": [],
   "source": [
    ""
   ]
  }
 ],
 "metadata": {
  "kernelspec": {
   "display_name": "Python 2",
   "language": "python",
   "name": "python2"
  },
  "language_info": {
   "codemirror_mode": {
    "name": "ipython",
    "version": 2.0
   },
   "file_extension": ".py",
   "mimetype": "text/x-python",
   "name": "python",
   "nbconvert_exporter": "python",
   "pygments_lexer": "ipython2",
   "version": "2.7.12"
  }
 },
 "nbformat": 4,
 "nbformat_minor": 0
}